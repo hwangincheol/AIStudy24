{
  "nbformat": 4,
  "nbformat_minor": 0,
  "metadata": {
    "colab": {
      "provenance": [],
      "toc_visible": true,
      "authorship_tag": "ABX9TyPp4BfWp9wGrdb5Rr2KM4Ys",
      "include_colab_link": true
    },
    "kernelspec": {
      "name": "python3",
      "display_name": "Python 3"
    },
    "language_info": {
      "name": "python"
    }
  },
  "cells": [
    {
      "cell_type": "markdown",
      "metadata": {
        "id": "view-in-github",
        "colab_type": "text"
      },
      "source": [
        "<a href=\"https://colab.research.google.com/github/hwangincheol/AIStudy24/blob/master/%EB%9E%9C%EB%8D%A4%EC%84%9C%EC%B9%98%EB%A5%BC%EC%9D%B4%EC%9A%A9%ED%95%9C%EB%AA%A8%EB%8D%B8%ED%8A%9C%EB%8B%9D%EC%A0%95%EB%A6%AC.ipynb\" target=\"_parent\"><img src=\"https://colab.research.google.com/assets/colab-badge.svg\" alt=\"Open In Colab\"/></a>"
      ]
    },
    {
      "cell_type": "code",
      "execution_count": 14,
      "metadata": {
        "id": "aP-r4UkoK-PM",
        "colab": {
          "base_uri": "https://localhost:8080/"
        },
        "outputId": "cf00ae8e-9f25-4927-c896-19943815e5f4"
      },
      "outputs": [
        {
          "output_type": "stream",
          "name": "stdout",
          "text": [
            "{'max_depth': 40, 'min_impurity_decrease': 0.00029841024053803647, 'min_samples_leaf': 4, 'min_samples_split': 12}\n",
            "0.866080921003924\n",
            "0.8630769230769231\n"
          ]
        }
      ],
      "source": [
        "import pandas as pd\n",
        "\n",
        "## 데이터를 가져와 타깃(정답)과 입력 데이터를 나누고,\n",
        "## train_test_split을 사용하여 훈련 세트와 테스트 세트로 나누어 훈련 준비 작업을 함\n",
        "wine = pd.read_csv('https://bit.ly/wine_csv_data')\n",
        "\n",
        "data = wine[['alcohol', 'sugar', 'pH']].to_numpy()\n",
        "target = wine['class'].to_numpy()\n",
        "\n",
        "from sklearn.model_selection import train_test_split\n",
        "\n",
        "train_input, test_input, train_target, test_target = train_test_split(data, target, test_size = 0.2)\n",
        "\n",
        "## 랜덤 서치를 사용하여 결정 트리 모델의 하이퍼파라미터 최적화를 진행함\n",
        "from sklearn.tree import DecisionTreeClassifier\n",
        "from scipy.stats import uniform, randint\n",
        "params = {'min_impurity_decrease' : uniform(0.0001, 0.001),\n",
        "          'max_depth' : randint(20, 50),\n",
        "          'min_samples_split' : randint(2, 25),\n",
        "          'min_samples_leaf' : randint(1, 25)\n",
        "          }\n",
        "\n",
        "from sklearn.model_selection import RandomizedSearchCV\n",
        "gs = RandomizedSearchCV(DecisionTreeClassifier(), params, n_iter = 100, n_jobs = -1)\n",
        "\n",
        "gs.fit(train_input, train_target)   # 훈련\n",
        "\n",
        "## 결과 확인\n",
        "print(gs.best_params_) # 최적화된 하이퍼파라미터, 테스트 점수 및 최적 모델의 성능을 확인함\n",
        "\n",
        "import numpy as np\n",
        "print(np.max(gs.cv_results_['mean_test_score'])) # 최적 모델을 사용하여 검증된 평균 테스트 점수 출력\n",
        "\n",
        "# 최적 모델을 사용하여 테스트 데이터셋에서의 성능 출력\n",
        "dt = gs.best_estimator_\n",
        "print(dt.score(test_input, test_target))"
      ]
    },
    {
      "cell_type": "code",
      "source": [],
      "metadata": {
        "id": "mvkwaQg520w7"
      },
      "execution_count": null,
      "outputs": []
    }
  ]
}