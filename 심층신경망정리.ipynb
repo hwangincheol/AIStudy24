{
  "nbformat": 4,
  "nbformat_minor": 0,
  "metadata": {
    "colab": {
      "provenance": [],
      "authorship_tag": "ABX9TyNbNlxPRNEYUWxWqSOaLPTo",
      "include_colab_link": true
    },
    "kernelspec": {
      "name": "python3",
      "display_name": "Python 3"
    },
    "language_info": {
      "name": "python"
    }
  },
  "cells": [
    {
      "cell_type": "markdown",
      "metadata": {
        "id": "view-in-github",
        "colab_type": "text"
      },
      "source": [
        "<a href=\"https://colab.research.google.com/github/hwangincheol/AIStudy24/blob/master/%EC%8B%AC%EC%B8%B5%EC%8B%A0%EA%B2%BD%EB%A7%9D%EC%A0%95%EB%A6%AC.ipynb\" target=\"_parent\"><img src=\"https://colab.research.google.com/assets/colab-badge.svg\" alt=\"Open In Colab\"/></a>"
      ]
    },
    {
      "cell_type": "code",
      "execution_count": null,
      "metadata": {
        "id": "gyR1W6K_PY4D"
      },
      "outputs": [],
      "source": [
        "import tensorflow as tf\n",
        "\n",
        "tf.keras.utils.set_random_seed(42)\n",
        "tf.config.experimental.enable_op_determinism()\n",
        "\n",
        "from tensorflow import keras\n",
        "\n",
        "(train_input, train_target), (test_input, test_target) = keras.datasets.fashion_mnist.load_data()\n",
        "\n",
        "from sklearn.model_selection import train_test_split\n",
        "train_scaled = train_input / 255.0\t# 픽셀 값을 0~1로 변환\n",
        "train_scaled = train_scaled.reshape(-1, 28*28) # 2차원 배열을 1차원 배열로 변환\n",
        "\n",
        "train_scaled, val_scaled, train_target, val_target = train_test_split(\n",
        "    train_scaled, train_target, test_size=0.2, random_state=42)\n",
        "\n",
        "# (방법1)\n",
        "# dense1 = keras.layers.Dense(100, activation = 'sigmoid', input_shape = (784,))\n",
        "# dense2 = keras.layers.Dense(10, activation = 'softmax')\n",
        "# model = keras.Sequential([dense1, dense2])\n",
        "\n",
        "# (방법2-1)\n",
        "# model = keras.Sequential([\n",
        "#     keras.layers.Dense(100, activation='sigmoid', input_shape=(784,), name='hidden'), # name='hidden' 레이어 이름 정의(영어만!)\n",
        "#     keras.layers.Dense(10, activation='softmax', name='output')], name='패션 MNIST 모델') # 모델의 이름\n",
        "\n",
        "# (방법2-2)\n",
        "model = keras.Sequential()  # 새로운 모델 생성\n",
        "model.add(keras.layers.Dense(100, activation='sigmoid', input_shape=(784,)))\n",
        "model.add(keras.layers.Dense(10, activation='softmax'))\n",
        "\n",
        "model.summary()\t# 신경망 모델 구조 확인\n",
        "\n",
        "# 훈련시작\n",
        "model.compile(loss = 'sparse_categorical_crossentropy', metrics = ['accuracy'])\n",
        "model.fit(train_scaled, train_target, epochs = 5)\n",
        "\n",
        "# 검증\n",
        "model.evaluate(val_scaled, val_target)\n",
        "\n",
        "\n",
        "#### 2차원 배열로 사용\n",
        "\n",
        "import tensorflow as tf\n",
        "\n",
        "tf.keras.utils.set_random_seed(42)\n",
        "tf.config.experimental.enable_op_determinism()\n",
        "\n",
        "from tensorflow import keras\n",
        "\n",
        "(train_input, train_target), (test_input, test_target) = keras.datasets.fashion_mnist.load_data()\n",
        "\n",
        "from sklearn.model_selection import train_test_split\n",
        "train_scaled = train_input / 255.0\t# 픽셀 값을 0~1로 변환\n",
        "\n",
        "train_scaled, val_scaled, train_target, val_target = train_test_split(\n",
        "    train_scaled, train_target, test_size=0.2, random_state=42)\n",
        "\n",
        "# (방법3)\n",
        "model = keras.Sequential()\n",
        "model.add(keras.layers.Flatten(input_shape = (28, 28)))\n",
        "model.add(keras.layers.Dense(100, activation='relu'))\n",
        "model.add(keras.layers.Dense(10, activation='softmax'))\n",
        "\n",
        "\n",
        "model.summary()\t# 신경망 모델 구조 확인\n",
        "\n",
        "# 훈련시작\n",
        "model.compile(loss = 'sparse_categorical_crossentropy', metrics = ['accuracy'])\n",
        "model.fit(train_scaled, train_target, epochs = 5)\n",
        "\n",
        "# 검증\n",
        "model.evaluate(val_scaled, val_target)\n"
      ]
    }
  ]
}